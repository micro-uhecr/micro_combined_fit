{
 "cells": [
  {
   "cell_type": "code",
   "execution_count": 1,
   "id": "545df87a",
   "metadata": {},
   "outputs": [],
   "source": [
    "# Trick to autoreload modules automatically for development\n",
    "%load_ext autoreload\n",
    "%autoreload 2"
   ]
  },
  {
   "cell_type": "code",
   "execution_count": 2,
   "id": "236d8cb8",
   "metadata": {},
   "outputs": [],
   "source": [
    "import sys\n",
    "import time\n",
    "import numpy as np\n",
    "import matplotlib.pyplot as plt\n",
    "\n",
    "from combined_fit import spectrum as sp\n",
    "from combined_fit import mass \n",
    "from combined_fit.tensor import *\n",
    "from combined_fit.gumbel import *\n",
    "from combined_fit.xmax_distr import *\n"
   ]
  },
  {
   "cell_type": "code",
   "execution_count": 3,
   "id": "4fc3ee73",
   "metadata": {},
   "outputs": [],
   "source": [
    "plt.rcParams.update({'font.size': 14,'legend.fontsize': 12}) #selecting font and size\n"
   ]
  },
  {
   "cell_type": "markdown",
   "id": "5f05b111",
   "metadata": {},
   "source": [
    "Parameters choice at the source (gamma and logRcut), redshift range (zmin, zmax) that has to be read in the tensor and thresold energy, from which the deviance is performed\n"
   ]
  },
  {
   "cell_type": "code",
   "execution_count": 4,
   "id": "ac4a9f0b",
   "metadata": {},
   "outputs": [],
   "source": [
    "#Spectral parameters\n",
    "logRcut = 18.25\n",
    "gamma = -1.12\n",
    "    \n",
    "E_times_k= np.dot([0.05,  0.36,  0.40,  0.18, 0.01], 3.7150108e+46) # erg per solar mass"
   ]
  },
  {
   "cell_type": "markdown",
   "id": "4bc0f38a",
   "metadata": {},
   "source": [
    "Chosing evolution of the source (SFR or flat at this stage) and computing weights for the injected spectra\n"
   ]
  },
  {
   "cell_type": "code",
   "execution_count": 5,
   "id": "46966726",
   "metadata": {},
   "outputs": [
    {
     "ename": "TypeError",
     "evalue": "Load_evol() takes 0 positional arguments but 1 was given",
     "output_type": "error",
     "traceback": [
      "\u001b[0;31m---------------------------------------------------------------------------\u001b[0m",
      "\u001b[0;31mTypeError\u001b[0m                                 Traceback (most recent call last)",
      "\u001b[0;32m<ipython-input-5-82ef300fe93c>\u001b[0m in \u001b[0;36m<module>\u001b[0;34m\u001b[0m\n\u001b[1;32m      1\u001b[0m \u001b[0;31m#Evolution\u001b[0m\u001b[0;34m\u001b[0m\u001b[0;34m\u001b[0m\u001b[0;34m\u001b[0m\u001b[0m\n\u001b[0;32m----> 2\u001b[0;31m \u001b[0mS_z\u001b[0m \u001b[0;34m=\u001b[0m \u001b[0mLoad_evol\u001b[0m\u001b[0;34m(\u001b[0m\u001b[0;34m\"SFR\"\u001b[0m\u001b[0;34m)\u001b[0m \u001b[0;31m#SFR evolution\u001b[0m\u001b[0;34m\u001b[0m\u001b[0;34m\u001b[0m\u001b[0m\n\u001b[0m\u001b[1;32m      3\u001b[0m \u001b[0;31m#S_z =  lambda z: SFRd(1) #Flat evolution\u001b[0m\u001b[0;34m\u001b[0m\u001b[0;34m\u001b[0m\u001b[0;34m\u001b[0m\u001b[0m\n\u001b[1;32m      4\u001b[0m \u001b[0;34m\u001b[0m\u001b[0m\n\u001b[1;32m      5\u001b[0m \u001b[0mw_R\u001b[0m \u001b[0;34m=\u001b[0m \u001b[0;32mlambda\u001b[0m \u001b[0mZA\u001b[0m\u001b[0;34m,\u001b[0m \u001b[0mlogR\u001b[0m\u001b[0;34m:\u001b[0m \u001b[0mSpectrum_Energy\u001b[0m\u001b[0;34m(\u001b[0m\u001b[0mZA\u001b[0m\u001b[0;34m,\u001b[0m \u001b[0mlogR\u001b[0m\u001b[0;34m,\u001b[0m \u001b[0mgamma\u001b[0m\u001b[0;34m,\u001b[0m \u001b[0mlogRcut\u001b[0m\u001b[0;34m)\u001b[0m\u001b[0;34m\u001b[0m\u001b[0;34m\u001b[0m\u001b[0m\n",
      "\u001b[0;31mTypeError\u001b[0m: Load_evol() takes 0 positional arguments but 1 was given"
     ]
    }
   ],
   "source": [
    "#Evolution\n",
    "S_z = Load_evol(\"SFR\") #SFR evolution\n",
    "#S_z =  lambda z: SFRd(1) #Flat evolution\n",
    "    \n",
    "w_R = lambda ZA, logR: Spectrum_Energy(ZA, logR, gamma, logRcut)\n",
    "w_zR = lambda ZA, z, logR: w_R(ZA, logR)/dzdt(z)*S_z(z)"
   ]
  },
  {
   "cell_type": "markdown",
   "id": "d2b32121",
   "metadata": {},
   "source": [
    "Initial mass fractions for the five injected masses"
   ]
  },
  {
   "cell_type": "code",
   "execution_count": null,
   "id": "1c6ab7dc",
   "metadata": {},
   "outputs": [],
   "source": [
    "model=\"Sibyll2.3d\"\n",
    "E_th = 18.75 # Compute the deviance from this energy\n"
   ]
  },
  {
   "cell_type": "markdown",
   "id": "2b4fd633",
   "metadata": {},
   "source": [
    "Upload the tensor provided in the folder \"Tensor\""
   ]
  },
  {
   "cell_type": "code",
   "execution_count": null,
   "id": "2318ede7",
   "metadata": {},
   "outputs": [],
   "source": [
    "#Evolution\n",
    "S_z = Load_evol(\"SFR\") #SFR evolution\n",
    "#S_z =  lambda z: SFRd(1) #Flat evolution\n",
    "    \n",
    "w_R = lambda ZA, logR: Spectrum_Energy(ZA, logR, gamma, logRcut)\n",
    "w_zR = lambda ZA, z, logR: w_R(ZA, logR)/dzdt(z)*S_z(z)"
   ]
  },
  {
   "cell_type": "code",
   "execution_count": null,
   "id": "2be08143",
   "metadata": {},
   "outputs": [],
   "source": [
    "    Tensor=[]\n",
    "    Tensor = upload_Tensor()"
   ]
  },
  {
   "cell_type": "markdown",
   "id": "8485c0fa",
   "metadata": {},
   "source": [
    "Upload the experimental distribution"
   ]
  },
  {
   "cell_type": "code",
   "execution_count": null,
   "id": "65904956",
   "metadata": {},
   "outputs": [],
   "source": [
    "xmax,exp_distributions = set_Xmax_distr()\n",
    "meanLgE = (xmax['maxlgE']+xmax['minlgE'])/2\n",
    "    "
   ]
  },
  {
   "cell_type": "code",
   "execution_count": null,
   "id": "8ce76a2f",
   "metadata": {},
   "outputs": [],
   "source": [
    "A_tot, frac = mass.fraction_Atmosphere(Tensor, E_times_k, A, Z, w_zR, xmax) # computing mass fractions on the top of the atmosphere\n",
    "A_new, f_new = mass.reduced_fractions(A_tot, frac,len(meanLgE)) # reducing in number"
   ]
  },
  {
   "cell_type": "code",
   "execution_count": null,
   "id": "e161fcac",
   "metadata": {},
   "outputs": [],
   "source": [
    "xMax_limits = Table.read('../Data/Range.txt', format='ascii.basic', delimiter=\" \", guess=False) # read the limits of xmax distribution"
   ]
  },
  {
   "cell_type": "code",
   "execution_count": null,
   "id": "ca5aaa3d",
   "metadata": {},
   "outputs": [],
   "source": [
    "gumbel = Convolve_all(xmax,A_new, exp_distributions, xMax_limits, model) # compute all the gumbel functions (for each energy and mass)\n"
   ]
  },
  {
   "cell_type": "code",
   "execution_count": null,
   "id": "96053813",
   "metadata": {},
   "outputs": [],
   "source": [
    "group = Print_Xmax_group(A,A_new,f_new,xmax,xMax_limits,exp_distributions, model) # compute gumbel grouping the mass fractions (useful just for the flot)\n"
   ]
  },
  {
   "cell_type": "code",
   "execution_count": null,
   "id": "2d9d51af",
   "metadata": {},
   "outputs": [],
   "source": [
    "    start = time.time()\n",
    "    fig = plt.figure()\n",
    "\n",
    "    for i in range( len(meanLgE)): # loop omn energy (try to avoid)\n",
    "\n",
    "        sum = np.zeros((len(A_new),len(exp_distributions[i][xMax_limits['Min'][i]:xMax_limits['Max'][i]])))\n",
    "\n",
    "        f_new[i] = f_new[i]/np.sum (f_new[i]) # normalizing the mass fractions\n",
    "\n",
    "        for j in range(len(A_new)):\n",
    "            sum[j] = np.multiply(gumbel[i][j], f_new[i][j]) # weighting the mass fractions\n",
    "\n",
    "        final = np.sum(sum, axis = 0)/np.sum(f_new[i])\n",
    "\n",
    "        data = exp_distributions[i][xMax_limits['Min'][i]:xMax_limits['Max'][i]] \n",
    "        Dev = deviance_Xmax_distr(data,final, xmax['nEntries'][i]) # compute the deviance, between the data and the expected distribution\n",
    "        print(meanLgE[i], \" \", Dev)\n",
    "        \n",
    "        ax1 = fig.add_subplot(5, 5, i+1) ## from hereinafter just plot stuff\n",
    "        plt.xlim(600,1000)\n",
    "        data = data/np.sum(data)\n",
    "        x = np.arange(0,2000,20)\n",
    "        x = x[xMax_limits['Min'][i]:xMax_limits['Max'][i]]\n",
    "        plt.errorbar(x, data/np.sum(data), fmt='o', color = 'black')\n",
    "\n",
    "        plt.text(900, 0.25, meanLgE[i] , fontsize=6, color = 'black',fontweight='bold')\n",
    "   \n",
    "        plt.plot(x, final, linewidth=2, linestyle='--', color ='brown')\n",
    "        [plt.plot(x, group[i][h], linewidth=2, linestyle='-', color =constant.colors[h]) for h in range(len(A))]\n",
    "\n",
    "    end = time.time()\n",
    "    print(\"Elapsed time_3 \", end - start)\n",
    "    #plt.tight_layout()\n",
    "    plt.show()"
   ]
  },
  {
   "cell_type": "code",
   "execution_count": null,
   "id": "5ef6e789",
   "metadata": {},
   "outputs": [],
   "source": []
  }
 ],
 "metadata": {
  "kernelspec": {
   "display_name": "Python 3",
   "language": "python",
   "name": "python3"
  },
  "language_info": {
   "codemirror_mode": {
    "name": "ipython",
    "version": 3
   },
   "file_extension": ".py",
   "mimetype": "text/x-python",
   "name": "python",
   "nbconvert_exporter": "python",
   "pygments_lexer": "ipython3",
   "version": "3.8.8"
  }
 },
 "nbformat": 4,
 "nbformat_minor": 5
}
