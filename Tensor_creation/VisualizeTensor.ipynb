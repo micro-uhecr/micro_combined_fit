{
 "cells": [
  {
   "cell_type": "markdown",
   "metadata": {},
   "source": [
    "# Tensor visualization"
   ]
  },
  {
   "cell_type": "markdown",
   "metadata": {},
   "source": [
    "## Libraries and Methods"
   ]
  },
  {
   "cell_type": "code",
   "execution_count": 1,
   "metadata": {},
   "outputs": [],
   "source": [
    "from matplotlib import cm\n",
    "import matplotlib.pyplot as plt\n",
    "from matplotlib.ticker import LinearLocator\n",
    "\n",
    "from ipywidgets import interact, fixed\n",
    "\n",
    "from scipy import interpolate, integrate, special\n",
    "from astropy.table import Table\n",
    "import numpy as np\n",
    "\n",
    "font = {'weight' : 'normal', 'size' : 30}\n",
    "plt.rc('font', **font)\n",
    "\n",
    "from astropy.cosmology import FlatLambdaCDM\n",
    "import astropy.units as u\n",
    "cosmo = FlatLambdaCDM(H0=70 * u.km / u.s / u.Mpc, Tcmb0=2.725 * u.K, Om0=0.3)\n",
    "\n",
    "def _fz_DL(z):\n",
    "    return cosmo.luminosity_distance(z).value"
   ]
  },
  {
   "cell_type": "markdown",
   "metadata": {},
   "source": [
    "## Tensor Loading\n",
    "Change the location of the tensor here if needed"
   ]
  },
  {
   "cell_type": "code",
   "execution_count": 2,
   "metadata": {},
   "outputs": [],
   "source": [
    "class CR_Table:\n",
    "    def __init__(self, filename, zmin, zmax):\n",
    "        t = np.load(filename)\n",
    "        self.logRi = t['logRi']\n",
    "        self.z = t['z']\n",
    "        self.logE = t['logE']\n",
    "        self.ZA = t['ZA']\n",
    "        self.tensor = t['tensor']\n",
    "\n",
    "zmin, zmax = 0., 2.5\n",
    "NuclName, Z, A = \"C\", 6, 12\n",
    "filename = 'Output_Tensor/SimPropA_' + str(A) + '_z_' + str(zmax) + '.npz'\n",
    "t = CR_Table(filename, zmin, zmax)"
   ]
  },
  {
   "cell_type": "markdown",
   "metadata": {},
   "source": [
    "## Tensor content in $E_{\\rm det}-E_{\\rm inj}$ plane for varying injection distances and secondary species"
   ]
  },
  {
   "cell_type": "code",
   "execution_count": 3,
   "metadata": {
    "scrolled": false
   },
   "outputs": [
    {
     "data": {
      "application/vnd.jupyter.widget-view+json": {
       "model_id": "f3510abd912f4b029feb089c70672280",
       "version_major": 2,
       "version_minor": 0
      },
      "text/plain": [
       "interactive(children=(IntSlider(value=23, description='iz_inj', max=46), IntSlider(value=3, description='jZA_d…"
      ]
     },
     "metadata": {},
     "output_type": "display_data"
    }
   ],
   "source": [
    "def plotEE(t, NuclName, Z, A, iz_inj, jZA_det):\n",
    "\n",
    "    # Compress the tensor along iz_inj\n",
    "    weights = np.zeros_like(t.z)\n",
    "    weights[iz_inj] = 1\n",
    "    axz = np.where(np.array(t.tensor.shape) == t.z.size)\n",
    "    tensor_stacked = np.tensordot(t.tensor, weights, axes=(axz[0],[0]))\n",
    "    tensor_stacked[tensor_stacked==0]=np.nan\n",
    "\n",
    "    # Select the tensor at jZA_det\n",
    "    Einj = np.log10(Z)+t.logRi\n",
    "    Edet = t.logE\n",
    "    XX, YY = np.meshgrid(Einj, Edet)\n",
    "    ZZ = np.transpose(tensor_stacked[jZA_det])\n",
    "\n",
    "    # Plot the surface\n",
    "    fig, ax = plt.subplots(figsize=(18, 15))\n",
    "    surf = ax.pcolor(XX, YY, ZZ, cmap=\"inferno\", vmin=0, vmax=A)\n",
    "    ax.plot(Edet, Edet, color=\"k\")\n",
    "    plt.fill_between(x=Edet,y1=Edet,y2=np.max(Einj)*np.ones_like(Edet), facecolor=\"none\", hatch=\"\\\\\", edgecolor=\"k\", linewidth=0.0)\n",
    "    \n",
    "    # Cosmetics\n",
    "    title = r\"$^{\"+str(A)+r\"}_{\"+str(Z)+r\"}$\"+NuclName+\" at \"\n",
    "    title +=  r\"$D_L$ = \" + str(np.round(_fz_DL(t.z[iz_inj] ),0)) + \" Mpc, \"\n",
    "    title +=  r\"$(Z_{\\rm det},A_{\\rm det})$ = \"+str(t.ZA[jZA_det])\n",
    "    ax.set_title(title)\n",
    "    ax.set_xlabel(r\"Injected log $E_{\\rm inj}$/eV\")\n",
    "    ax.set_ylabel(r\"Detected log $E_{\\rm det}$/eV\")\n",
    "    ax.set_xlim(np.min(Edet), np.max(Edet))\n",
    "    ax.set_ylim(np.min(Edet), np.max(Edet))\n",
    "    \n",
    "    # Add a color bar which maps values to colors.\n",
    "    cbar = fig.colorbar(surf,fraction=0.046, pad=0.04)\n",
    "    cbar.set_label(\"Mean # secondary nuclei\")\n",
    "\n",
    "interact(plotEE, t=fixed(t), NuclName = fixed(NuclName), Z=fixed(Z), A=fixed(A),  iz_inj=(0,t.z.size-1), jZA_det=(0,t.ZA.size-1));"
   ]
  },
  {
   "cell_type": "markdown",
   "metadata": {},
   "source": [
    "## Tensor content as a function of injection distance for varying injected energies"
   ]
  },
  {
   "cell_type": "code",
   "execution_count": 5,
   "metadata": {},
   "outputs": [
    {
     "data": {
      "application/vnd.jupyter.widget-view+json": {
       "model_id": "35a1f7674e73435cb447f7d8647391f6",
       "version_major": 2,
       "version_minor": 0
      },
      "text/plain": [
       "interactive(children=(IntSlider(value=19, description='iE_inj', max=31, min=8), Output()), _dom_classes=('widg…"
      ]
     },
     "metadata": {},
     "output_type": "display_data"
    }
   ],
   "source": [
    "def plotD(t, NuclName, Z, A, iE_inj, Nmin):\n",
    "\n",
    "    # Compress the tensor along iE_inj\n",
    "    weights = np.zeros_like(t.logRi)\n",
    "    weights[iE_inj] = 1\n",
    "    axRi = np.where(np.array(t.tensor.shape) == t.logRi.size)\n",
    "    tensor_stacked = np.tensordot(t.tensor, weights, axes=(axRi[0],[0]))\n",
    "    \n",
    "    # Compress the tensor at all detected energies\n",
    "    axEdet = np.where(np.array(tensor_stacked.shape) == t.logE.size)\n",
    "    weights = np.ones_like(t.logE)\n",
    "    tensor_stacked = np.tensordot(tensor_stacked, weights, axes=(axEdet[0],[0]))\n",
    "            \n",
    "    # Plot the curves\n",
    "    fig, ax = plt.subplots(figsize=(18, 12))\n",
    "    tot = 0\n",
    "    for i in range(len(tensor_stacked)):\n",
    "        if np.max(tensor_stacked[i])>Nmin:\n",
    "            ax.plot(_fz_DL(t.z), tensor_stacked[i], label=\"(Z,A)=\"+str(t.ZA[i]),linewidth=2) \n",
    "        tot += tensor_stacked[i]\n",
    "    ax.plot(_fz_DL(t.z), tot, label=\"Total detected\", color='k',linewidth=2) \n",
    "    \n",
    "    # Cosmetics\n",
    "    logEinj = np.log10(Z)+t.logRi\n",
    "    title = r\"$^{\"+str(A)+r\"}_{\"+str(Z)+r\"}$\"+NuclName+r\" at log $E_{\\rm inj}$/eV = \" + str(np.round(logEinj[iE_inj],2))\n",
    "    ax.set_title(title)    \n",
    "    ax.set_xlabel(r\"From luminosity distance, $D_L$ [Mpc]\")\n",
    "    ax.set_ylabel(\"Mean # nuclei\" + r\" at log $E_{\\rm det}$/eV $\\geq$ \" + str(np.round(np.min(t.logE),2)))\n",
    "    ax.set_xscale(\"log\")\n",
    "    ax.set_xlim(1, np.max(_fz_DL(t.z)))\n",
    "    ax.set_ylim(0, np.max(tot)*1.1)\n",
    "    \n",
    "    ax.legend(loc=\"upper right\")\n",
    "\n",
    "logEinj = np.log10(Z)+t.logRi\n",
    "iE_inj_min = np.nonzero(logEinj>=np.min(t.logE))[0][0]\n",
    "iE_inj_max = np.nonzero(logEinj>np.max(t.logRi))[0][0]\n",
    "\n",
    "interact(plotD, t=fixed(t), NuclName = fixed(NuclName), Z=fixed(Z), A=fixed(A),  iE_inj=(iE_inj_min,iE_inj_max), Nmin=fixed(0.2));"
   ]
  },
  {
   "cell_type": "markdown",
   "metadata": {},
   "source": [
    "## Tensor content as a function of injected energy for varying injection distances"
   ]
  },
  {
   "cell_type": "code",
   "execution_count": 6,
   "metadata": {
    "scrolled": false
   },
   "outputs": [
    {
     "data": {
      "application/vnd.jupyter.widget-view+json": {
       "model_id": "3439fe1ddfdd4168b0fe3410727ac977",
       "version_major": 2,
       "version_minor": 0
      },
      "text/plain": [
       "interactive(children=(IntSlider(value=17, description='iz_inj', max=33, min=2), Output()), _dom_classes=('widg…"
      ]
     },
     "metadata": {},
     "output_type": "display_data"
    }
   ],
   "source": [
    "def plotE(t, Z, A, iz_inj, Nmin):\n",
    "\n",
    "    # Compress the tensor along iz_inj\n",
    "    weights = np.zeros_like(t.z)\n",
    "    weights[iz_inj] = 1\n",
    "    axz = np.where(np.array(t.tensor.shape) == t.z.size) \n",
    "    tensor_stacked = np.tensordot(t.tensor, weights, axes=(axz[0],[0]))\n",
    "\n",
    "    # Compress the tensor at all detected energies\n",
    "    axEdet = np.where(np.array(tensor_stacked.shape) == t.logE.size)\n",
    "    weights = np.ones_like(t.logE)\n",
    "    tensor_stacked = np.tensordot(tensor_stacked, weights, axes=(axEdet[0],[0]))\n",
    "    \n",
    "    # Plot\n",
    "    fig, ax = plt.subplots(figsize=(18, 12))\n",
    "    logEinj = np.log10(Z)+t.logRi\n",
    "    tot=0\n",
    "    for i in range(len(tensor_stacked)):\n",
    "        if np.max(tensor_stacked[i])>Nmin:\n",
    "            ax.plot(logEinj, tensor_stacked[i], label=\"(Z,A)=\"+str(t.ZA[i]), linewidth=2) \n",
    "        tot += tensor_stacked[i]\n",
    "    ax.plot(logEinj, tot, label=\"Total detected\", color='k', linewidth=2, linestyle=\"--\") \n",
    "    \n",
    "    #Cosmetics\n",
    "    title= title = r\"$^{\"+str(A)+r\"}_{\"+str(Z)+r\"}$\"+NuclName+r\" at $D_L$ = \" + str(np.round(_fz_DL(t.z[iz_inj]),0)) + \" Mpc\"\n",
    "    ax.set_title(title)\n",
    "    ax.set_xlabel(r\"Injected log $E_{\\rm inj}$/eV\")\n",
    "    ax.set_ylabel(\"Mean # nuclei\" + r\" at log $E_{\\rm det}$/eV $\\geq$ \" + str(np.round(np.min(t.logE),2)))\n",
    "    ax.set_xlim(np.min(t.logE), 20)\n",
    "    ax.set_ylim(0, np.max(tot)*1.1)\n",
    "    ax.set_yscale(\"symlog\")\n",
    "    \n",
    "    ax.legend()\n",
    "\n",
    "iz_min = np.nonzero(_fz_DL(t.z)>=1)[0][0]#>1 Mpc\n",
    "iz_max = np.nonzero(_fz_DL(t.z)>1000)[0][0]#>1000 Mpc\n",
    "interact(plotE, t=fixed(t), Z=fixed(Z), A=fixed(A),  iz_inj=(iz_min,iz_max), Nmin=fixed(0.2));"
   ]
  },
  {
   "cell_type": "code",
   "execution_count": null,
   "metadata": {},
   "outputs": [],
   "source": []
  }
 ],
 "metadata": {
  "kernelspec": {
   "display_name": "Python 3",
   "language": "python",
   "name": "python3"
  },
  "language_info": {
   "codemirror_mode": {
    "name": "ipython",
    "version": 3
   },
   "file_extension": ".py",
   "mimetype": "text/x-python",
   "name": "python",
   "nbconvert_exporter": "python",
   "pygments_lexer": "ipython3",
   "version": "3.8.8"
  }
 },
 "nbformat": 4,
 "nbformat_minor": 4
}
