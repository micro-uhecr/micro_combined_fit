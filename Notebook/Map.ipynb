{
 "cells": [
  {
   "cell_type": "code",
   "execution_count": 2,
   "id": "94c221ae",
   "metadata": {},
   "outputs": [],
   "source": [
    "import time\n",
    "from tqdm import tqdm\n",
    "import numpy as np\n",
    "import matplotlib.pyplot as plt\n",
    "from astropy.table import Table\n",
    "import healpy as hp\n",
    "from scipy import interpolate\n",
    "import os\n",
    "\n",
    "from combined_fit import spectrum as sp\n",
    "from combined_fit import tensor as ts\n",
    "from combined_fit import constant, map, draw"
   ]
  },
  {
   "cell_type": "code",
   "execution_count": 3,
   "id": "aef4f173",
   "metadata": {},
   "outputs": [],
   "source": [
    "# Threshold energy above which the map is computed and tensor\n",
    "Dmin, Dcut = 0.01, 350#Mpc, minimum and maximum distance of the catalog\n",
    "galCoord = True # galactic coordinates if True, equatorial otherwise\n",
    "logEth_map = 19.6#Threshold energy for computation\n",
    "SavePlot = False#True to save the map\n",
    "isSFR = True# True for SFRD, False for SMD\n",
    "\n",
    "#Best-fit parameters, inferred with Examples/Fit.py\n",
    "logRmin = 17.8 #Integrate the injected spectrum from logR_min to get total energy x k\t\n",
    "Tensor = ts.upload_Tensor(logRmin = logRmin, logEmin = logEth_map)\n",
    "\n",
    "A= [1,4,14,28,56]\n",
    "Z= [1, 2,  7,14, 26]"
   ]
  },
  {
   "cell_type": "code",
   "execution_count": 4,
   "id": "51ec1f54",
   "metadata": {},
   "outputs": [],
   "source": [
    "hadr_model = \"Sibyll\" #for the record\n",
    "if isSFR:\n",
    "    key, trac = \"sfrd\", \"logSFR\"#solar mass / (yr.Mpc3), mass/yr\n",
    "    k_transient = 1E-4# best-case for B_LS = 10 nG\n",
    "    text_k = r\"$k = \"+ draw.latex_float(k_transient) + r\"\\, M_\\odot^{-1}$\"\n",
    "    logRcut, gamma_nucl, gamma_p =  18.24, -0.46, 3.54\n",
    "    E_times_k = [1.79E+46, 8.18E+45, 1.96E+46, 8.55E+45, 1.52E45]\n",
    "    unit_E_times_k = \"erg per solar mass\"\n",
    "    sigma_shift_sys = 0.87\n",
    "else:\n",
    "    key, trac = \"smd\", \"logM*\"#solar mass / Mpc3, mass\n",
    "    k_transient = 1E-15# best-case for B_LS = 10 nG\n",
    "    text_k = r\"$\\dot{k} = \"+ draw.latex_float(k_transient) + r\"\\, M_\\odot^{-1}\\, {yr}^{-1}$\"\n",
    "    logRcut, gamma_nucl, gamma_p =  18.33, 0.30, 3.44\n",
    "    E_times_k = [2.63E+36, 6.20E+35, 9.23E+35, 3.73E+35, 1.36E35]\n",
    "    unit_E_times_k = \"erg per solar mass per year\"\n",
    "    sigma_shift_sys = 1.00"
   ]
  },
  {
   "cell_type": "code",
   "execution_count": 5,
   "id": "a4c48d93",
   "metadata": {},
   "outputs": [
    {
     "name": "stdout",
     "output_type": "stream",
     "text": [
      "Fraction of foreground flux: 0.9761949626040561\n"
     ]
    }
   ],
   "source": [
    "################# Compute the flux map ####################################\n",
    "###########################################################################\n",
    "\n",
    "####################### Background ########################################\n",
    "#Weights for total and background-only evolution\n",
    "S_z = ts.Load_evol(file = key+\"_local.dat\", key=key)\n",
    "w_zR_nucl = sp.weight_tensor(S_z, gamma_nucl, logRcut)\n",
    "w_zR_p = sp.weight_tensor(S_z, gamma_p, logRcut)\n",
    "\n",
    "S_z_bckgnd_only = lambda z: S_z(z)*(constant._fz_DL(z)>Dcut)\t\n",
    "w_zR_bckgnd_nucl = sp.weight_tensor(S_z_bckgnd_only, gamma_nucl, logRcut)\n",
    "w_zR_bckgnd_p = sp.weight_tensor(S_z_bckgnd_only, gamma_p, logRcut)\n",
    "\n",
    "# Background and foreground flux\n",
    "logEth, J_total = sp.Compute_integral_spectrum(Tensor, E_times_k, A, Z, w_zR_nucl, w_zR_p)\n",
    "logEth, J_background = sp.Compute_integral_spectrum(Tensor, E_times_k, A, Z, w_zR_bckgnd_nucl, w_zR_bckgnd_p)\n",
    "J_foreground = J_total - J_background\n",
    "print(\"Fraction of foreground flux:\",J_foreground/J_total)\n",
    "\n",
    "# Get the isotropic background\n",
    "nside = 64\n",
    "iso_Map = np.ones(hp.nside2npix(nside))*J_background\n",
    "\n",
    "####################### Foreground ########################################\n",
    "# Get the catalog\n",
    "galaxy_parameters = map.load_Catalog(galCoord, Dmin, Dcut, tracer=trac)\n",
    "tensor_parameters = [Tensor, E_times_k, A, Z, logRcut, gamma_nucl, gamma_p]\n",
    "\n",
    "Rmean, map_as_in_spec_compo_fit =  map.map_arbitrary_units_all_galaxies(galaxy_parameters, tensor_parameters, k_transient, galCoord, nside)\n",
    "\n",
    "Rmean, map_arbitrary_units = map.map_arbitrary_units_with_all_cuts(galaxy_parameters, tensor_parameters, k_transient, galCoord, nside)\n",
    "\n",
    "aniso_Map = map_arbitrary_units*J_foreground/np.mean(map_as_in_spec_compo_fit)#mean could also be limited to declination range covered by Auger\n"
   ]
  },
  {
   "cell_type": "code",
   "execution_count": null,
   "id": "0c4ef39f",
   "metadata": {},
   "outputs": [],
   "source": [
    "####################### Sum ###############################################\n",
    "# Smooth the flux map at physical angular scale\n",
    "smooth = \"fisher\"\n",
    "radius_Rmean = constant.theta_mean_deg(Rmean) #deg\n",
    "text_deflection = r\"$\\theta = \"+str(np.around(radius_Rmean, decimals = 1))+r\"$°\"\n",
    "Flux_map = aniso_Map + iso_Map\n",
    "if radius_Rmean>3:#if smaller than 3deg the smoothing is equivalent to nothing\n",
    "    Flux_map = map.LoadSmoothedMap(Flux_map, radius_Rmean, nside, smoothing=smooth)\n",
    "print(\"Mean deflection\", np.around(radius_Rmean, decimals = 1), \"deg at R = \", np.around(Rmean, decimals = 1),\"V\")\n",
    "\n",
    "# Smooth the flux map at display angular scale\t\n",
    "smooth = \"top-hat\"\n",
    "radius = 25 #deg\t\n",
    "#Flux_map = map.LoadSmoothedMap(Flux_map, radius, nside, smoothing=smooth)\n",
    "print(\"Contrast \", np.around(np.max(Flux_map)/np.min(Flux_map), decimals = 1))\n",
    "################################## Plots ##################################\n",
    "###########################################################################\n"
   ]
  },
  {
   "cell_type": "code",
   "execution_count": 1,
   "id": "b7beb0b0",
   "metadata": {},
   "outputs": [
    {
     "ename": "NameError",
     "evalue": "name 'galCoord' is not defined",
     "output_type": "error",
     "traceback": [
      "\u001b[0;31m---------------------------------------------------------------------------\u001b[0m",
      "\u001b[0;31mNameError\u001b[0m                                 Traceback (most recent call last)",
      "Cell \u001b[0;32mIn[1], line 2\u001b[0m\n\u001b[1;32m      1\u001b[0m \u001b[38;5;66;03m#Display parameters of the maps\u001b[39;00m\n\u001b[0;32m----> 2\u001b[0m \u001b[38;5;28;01mif\u001b[39;00m galCoord: ax_title \u001b[38;5;241m=\u001b[39m \u001b[38;5;124m\"\u001b[39m\u001b[38;5;124mGalactic coordinates\u001b[39m\u001b[38;5;124m\"\u001b[39m\n\u001b[1;32m      3\u001b[0m \u001b[38;5;28;01melse\u001b[39;00m: ax_title \u001b[38;5;241m=\u001b[39m \u001b[38;5;124m\"\u001b[39m\u001b[38;5;124mEquatorial coordinates\u001b[39m\u001b[38;5;124m\"\u001b[39m\n\u001b[1;32m      4\u001b[0m fig_name \u001b[38;5;241m=\u001b[39m \u001b[38;5;124m\"\u001b[39m\u001b[38;5;124muhecr_fluxmap_\u001b[39m\u001b[38;5;124m\"\u001b[39m\u001b[38;5;241m+\u001b[39m\u001b[38;5;28mstr\u001b[39m(np\u001b[38;5;241m.\u001b[39maround(logEth, decimals\u001b[38;5;241m=\u001b[39m\u001b[38;5;241m2\u001b[39m))\u001b[38;5;241m+\u001b[39m\u001b[38;5;124m\"\u001b[39m\u001b[38;5;124m_\u001b[39m\u001b[38;5;124m\"\u001b[39m\u001b[38;5;241m+\u001b[39mkey\u001b[38;5;241m+\u001b[39m\u001b[38;5;124m\"\u001b[39m\u001b[38;5;124m_\u001b[39m\u001b[38;5;124m\"\u001b[39m\u001b[38;5;241m+\u001b[39m\u001b[38;5;28mstr\u001b[39m(np\u001b[38;5;241m.\u001b[39maround(constant\u001b[38;5;241m.\u001b[39mB_LGMF_nG, decimals\u001b[38;5;241m=\u001b[39m\u001b[38;5;241m2\u001b[39m))\u001b[38;5;241m+\u001b[39m\u001b[38;5;124m\"\u001b[39m\u001b[38;5;124m_\u001b[39m\u001b[38;5;124m\"\u001b[39m\u001b[38;5;241m+\u001b[39m\u001b[38;5;28mstr\u001b[39m(k_transient)\n",
      "\u001b[0;31mNameError\u001b[0m: name 'galCoord' is not defined"
     ]
    }
   ],
   "source": [
    "#Display parameters of the maps\n",
    "if galCoord: ax_title = \"Galactic coordinates\"\n",
    "else: ax_title = \"Equatorial coordinates\"\n",
    "fig_name = \"uhecr_fluxmap_\"+str(np.around(logEth, decimals=2))+\"_\"+key+\"_\"+str(np.around(constant.B_LGMF_nG, decimals=2))+\"_\"+str(k_transient)\n",
    "if smooth==\"fisher\": tex_ang = r\"\\theta\"\n",
    "elif smooth==\"top-hat\": tex_ang = r\"\\Psi\"\n",
    "Eth = np.around(np.power(10,logEth-18)).astype(int)\n",
    "norm_fact_title = 1E3\n",
    "color_bar_title = r\"$\\Phi_{\\rm \"+ key +r\"}(>\" + str(Eth) + r\"\\, {\\rm EeV},\\, \"+tex_ang+\" = \"+ str(radius) +r\"$°)\"+ r\"  $[10^{-3}\\ \\rm km^{-2}\\, yr^{-1}\\, sr^{-1}]$\"\n",
    "title = text_k+\", \"+text_deflection+r\" ($B_{\\rm LS} =\"+str(constant.B_LGMF_nG) +r\"\\,$nG)\"\n",
    "\n",
    "#Plot\n",
    "plt.rcParams.update({'font.size': 14,'legend.fontsize': 12})\n",
    "map.PlotHPmap(norm_fact_title*Flux_map, nside, galCoord, title, color_bar_title, ax_title, fig_name = fig_name, write= SavePlot)\t"
   ]
  },
  {
   "cell_type": "code",
   "execution_count": null,
   "id": "32af7a83",
   "metadata": {},
   "outputs": [],
   "source": []
  }
 ],
 "metadata": {
  "kernelspec": {
   "display_name": "Python 3 (ipykernel)",
   "language": "python",
   "name": "python3"
  },
  "language_info": {
   "codemirror_mode": {
    "name": "ipython",
    "version": 3
   },
   "file_extension": ".py",
   "mimetype": "text/x-python",
   "name": "python",
   "nbconvert_exporter": "python",
   "pygments_lexer": "ipython3",
   "version": "3.11.4"
  }
 },
 "nbformat": 4,
 "nbformat_minor": 5
}
